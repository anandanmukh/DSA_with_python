{
 "cells": [
  {
   "cell_type": "code",
   "execution_count": null,
   "metadata": {},
   "outputs": [],
   "source": [
    "# Sequences of values \n",
    "factors = [1,2,5,10]\n",
    "names = [\"Anand\",\"Charles\",\"Muqsit\"]\n",
    "# Type need not be uniform \n",
    "mixed = [3, True, \"Yellow\"]\n",
    "\n",
    "Length is given by len()\n",
    "len(names) is 3\n"
   ]
  },
  {
   "cell_type": "code",
   "execution_count": null,
   "metadata": {},
   "outputs": [],
   "source": [
    "# Extract values by position, slice, like str\n",
    "print(factors[3]) \n",
    "print(mixed[0:2]) \n",
    "print([3,True])"
   ]
  }
 ],
 "metadata": {
  "language_info": {
   "name": "python"
  },
  "orig_nbformat": 4
 },
 "nbformat": 4,
 "nbformat_minor": 2
}
